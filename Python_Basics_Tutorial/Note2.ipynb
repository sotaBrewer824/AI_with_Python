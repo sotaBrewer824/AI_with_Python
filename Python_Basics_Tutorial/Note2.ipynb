{
 "cells": [
  {
   "cell_type": "markdown",
   "id": "4c91e617",
   "metadata": {},
   "source": [
    "# CS188 Note2. More Python"
   ]
  },
  {
   "cell_type": "markdown",
   "id": "ec4b85b1",
   "metadata": {},
   "source": [
    "map, filter, lambda expressions"
   ]
  },
  {
   "cell_type": "code",
   "execution_count": 1,
   "id": "02facb10",
   "metadata": {},
   "outputs": [
    {
     "data": {
      "text/plain": [
       "[1, 4, 9]"
      ]
     },
     "execution_count": 1,
     "metadata": {},
     "output_type": "execute_result"
    }
   ],
   "source": [
    "list(map (lambda x: x * x, [1, 2, 3]))"
   ]
  },
  {
   "cell_type": "markdown",
   "id": "f41fdec5",
   "metadata": {},
   "source": [
    "map函数有两个参数：第一个参数是具体你需要实现的函数，第二个参数是一个集合，对集合中每个元素使用第一个参数的函数进行运行得到一个map"
   ]
  },
  {
   "cell_type": "code",
   "execution_count": 3,
   "id": "b716639e",
   "metadata": {},
   "outputs": [
    {
     "data": {
      "text/plain": [
       "[10, 2, 3, 5]"
      ]
     },
     "execution_count": 3,
     "metadata": {},
     "output_type": "execute_result"
    }
   ],
   "source": [
    "list(map(int, [10.5, 2.8, 3.4, 5.6])) #将列表中的所有元素使用一次int函数，并将结果转化成列表进行输出查看"
   ]
  },
  {
   "cell_type": "markdown",
   "id": "bbe95658",
   "metadata": {},
   "source": [
    "lambda表示，当前定义了一个匿名函数，没有函数名，这个函数就在一个地方用，其他地方不能使用"
   ]
  },
  {
   "cell_type": "code",
   "execution_count": 4,
   "id": "a1d9a90f",
   "metadata": {},
   "outputs": [
    {
     "data": {
      "text/plain": [
       "[4, 5, 4]"
      ]
     },
     "execution_count": 4,
     "metadata": {},
     "output_type": "execute_result"
    }
   ],
   "source": [
    "list(filter(lambda x: x > 3, [1,2,3,4,5,4,3,2,1]))"
   ]
  },
  {
   "cell_type": "markdown",
   "id": "666fd1fd",
   "metadata": {},
   "source": [
    "filter函数表示筛选出给定集合中满足函数的元素"
   ]
  },
  {
   "cell_type": "code",
   "execution_count": 6,
   "id": "e45d0b5a",
   "metadata": {},
   "outputs": [
    {
     "data": {
      "text/plain": [
       "{4, 5}"
      ]
     },
     "execution_count": 6,
     "metadata": {},
     "output_type": "execute_result"
    }
   ],
   "source": [
    "set(filter(lambda x: x > 3, [1,2,3,4,5,4,3,2,1])) #如果是set就要去掉重复元素"
   ]
  },
  {
   "cell_type": "markdown",
   "id": "ee5faa53",
   "metadata": {},
   "source": [
    "Genarating sets in Python"
   ]
  },
  {
   "cell_type": "code",
   "execution_count": 8,
   "id": "c1caa138",
   "metadata": {},
   "outputs": [
    {
     "name": "stdout",
     "output_type": "stream",
     "text": [
      "[1, 3, 5]\n",
      "[2, 4, 6]\n"
     ]
    }
   ],
   "source": [
    "nums = [1,2,3,4,5,6]\n",
    "plusOneNums = [x+1 for x in nums]\n",
    "oddNums = [x for x in nums if x % 2 == 1] #在Python中，可以把for循环卸载list中，但需要注意的是Python中的循环是是遍历型循环\n",
    "# 实际上，我们将类似上述的语句称为列表解析式\n",
    "print(oddNums)\n",
    "oddNumsPlusOne = [x+1 for x in nums if x % 2 ==1]\n",
    "print(oddNumsPlusOne)"
   ]
  },
  {
   "cell_type": "code",
   "execution_count": 10,
   "id": "f9ad7251",
   "metadata": {},
   "outputs": [
    {
     "data": {
      "text/plain": [
       "5050"
      ]
     },
     "execution_count": 10,
     "metadata": {},
     "output_type": "execute_result"
    }
   ],
   "source": [
    "sum([x for x in range(101)]) #在Python中对1-100求和，就不需要利用C语言或者其他编程语言的for循环了"
   ]
  },
  {
   "cell_type": "markdown",
   "id": "7511e954",
   "metadata": {},
   "source": [
    "range函数的参数也是start,end,step，与list不同的是，range用的()而list用的是[]"
   ]
  },
  {
   "cell_type": "code",
   "execution_count": 12,
   "id": "8dfd95e5",
   "metadata": {},
   "outputs": [
    {
     "data": {
      "text/plain": [
       "120"
      ]
     },
     "execution_count": 12,
     "metadata": {},
     "output_type": "execute_result"
    }
   ],
   "source": [
    "sum([x **2 for x in range(0, 10, 2)])"
   ]
  },
  {
   "cell_type": "code",
   "execution_count": 13,
   "id": "6e565568",
   "metadata": {},
   "outputs": [
    {
     "data": {
      "text/plain": [
       "True"
      ]
     },
     "execution_count": 13,
     "metadata": {},
     "output_type": "execute_result"
    }
   ],
   "source": [
    "sum([x **2 for x in range(0, 10, 2)]) == sum([x**2 for x in range(10) if x % 2 == 0])"
   ]
  },
  {
   "cell_type": "markdown",
   "id": "b8a7084f",
   "metadata": {},
   "source": [
    "Functions in Python"
   ]
  },
  {
   "cell_type": "code",
   "execution_count": 15,
   "id": "b9d6bcf6",
   "metadata": {},
   "outputs": [
    {
     "name": "stdout",
     "output_type": "stream",
     "text": [
      "That'll be 4.800000 please\n",
      "Sorry we don't have coconuts\n"
     ]
    }
   ],
   "source": [
    "fruitPrices = {'apples':2.00, 'oranges': 1.50, 'pears': 1.75}\n",
    "\n",
    "def buyFruit(fruit, numPounds):\n",
    "    if fruit not in fruitPrices:\n",
    "        print(\"Sorry we don't have %s\" % (fruit))\n",
    "    else:\n",
    "        #在Python中，else跟对齐了的if对应而不是最近的一个if对应\n",
    "        cost = fruitPrices[fruit] * numPounds\n",
    "        print(\"That'll be %f please\" % (cost))\n",
    "\n",
    "# Main Function\n",
    "if __name__ == '__main__':\n",
    "    buyFruit('apples',2.4)\n",
    "    buyFruit('coconuts',2)"
   ]
  },
  {
   "cell_type": "code",
   "execution_count": null,
   "id": "9694f8ca",
   "metadata": {},
   "outputs": [],
   "source": []
  }
 ],
 "metadata": {
  "kernelspec": {
   "display_name": "Python 3 (ipykernel)",
   "language": "python",
   "name": "python3"
  },
  "language_info": {
   "codemirror_mode": {
    "name": "ipython",
    "version": 3
   },
   "file_extension": ".py",
   "mimetype": "text/x-python",
   "name": "python",
   "nbconvert_exporter": "python",
   "pygments_lexer": "ipython3",
   "version": "3.9.12"
  }
 },
 "nbformat": 4,
 "nbformat_minor": 5
}
