{
 "cells": [
  {
   "cell_type": "markdown",
   "id": "611dd4b7",
   "metadata": {},
   "source": [
    "# CS188 Note 1. Python Basics\n"
   ]
  },
  {
   "cell_type": "markdown",
   "id": "1e401e85",
   "metadata": {},
   "source": [
    "Basic Calculation in Python"
   ]
  },
  {
   "cell_type": "code",
   "execution_count": 1,
   "id": "1d854fd7",
   "metadata": {},
   "outputs": [
    {
     "data": {
      "text/plain": [
       "2"
      ]
     },
     "execution_count": 1,
     "metadata": {},
     "output_type": "execute_result"
    }
   ],
   "source": [
    "1 + 1 #数据加操作符"
   ]
  },
  {
   "cell_type": "code",
   "execution_count": 2,
   "id": "d908dacc",
   "metadata": {},
   "outputs": [
    {
     "data": {
      "text/plain": [
       "6"
      ]
     },
     "execution_count": 2,
     "metadata": {},
     "output_type": "execute_result"
    }
   ],
   "source": [
    "2 * 3"
   ]
  },
  {
   "cell_type": "code",
   "execution_count": 3,
   "id": "e0b30ba5",
   "metadata": {},
   "outputs": [
    {
     "name": "stdout",
     "output_type": "stream",
     "text": [
      "Hello\n"
     ]
    }
   ],
   "source": [
    "print(\"Hello\")"
   ]
  },
  {
   "cell_type": "code",
   "execution_count": 4,
   "id": "476cfbb8",
   "metadata": {},
   "outputs": [
    {
     "data": {
      "text/plain": [
       "9"
      ]
     },
     "execution_count": 4,
     "metadata": {},
     "output_type": "execute_result"
    }
   ],
   "source": [
    "3**2 #幂运算"
   ]
  },
  {
   "cell_type": "code",
   "execution_count": 5,
   "id": "78bd33cf",
   "metadata": {},
   "outputs": [
    {
     "data": {
      "text/plain": [
       "2"
      ]
     },
     "execution_count": 5,
     "metadata": {},
     "output_type": "execute_result"
    }
   ],
   "source": [
    "5 // 2 #整除商"
   ]
  },
  {
   "cell_type": "code",
   "execution_count": 6,
   "id": "340b3f4c",
   "metadata": {},
   "outputs": [
    {
     "data": {
      "text/plain": [
       "False"
      ]
     },
     "execution_count": 6,
     "metadata": {},
     "output_type": "execute_result"
    }
   ],
   "source": [
    "1 == 0"
   ]
  },
  {
   "cell_type": "code",
   "execution_count": 7,
   "id": "4394bbaf",
   "metadata": {},
   "outputs": [
    {
     "data": {
      "text/plain": [
       "True"
      ]
     },
     "execution_count": 7,
     "metadata": {},
     "output_type": "execute_result"
    }
   ],
   "source": [
    "not (1 == 0)"
   ]
  },
  {
   "cell_type": "markdown",
   "id": "bcf99c00",
   "metadata": {},
   "source": [
    "True和False表示命题是否成立，是一个逻辑的概念，这和其他编程语言是类似的，当然在Python中也有一个独特的地方，请见下文"
   ]
  },
  {
   "cell_type": "code",
   "execution_count": 8,
   "id": "c34250e5",
   "metadata": {},
   "outputs": [
    {
     "data": {
      "text/plain": [
       "True"
      ]
     },
     "execution_count": 8,
     "metadata": {},
     "output_type": "execute_result"
    }
   ],
   "source": [
    "3 > 2 > 1"
   ]
  },
  {
   "cell_type": "markdown",
   "id": "5e1e2584",
   "metadata": {},
   "source": [
    "在Python中，上述表达式的意思是3 > 2 > 1，而在其他语言比如说C语言，这段代码表示的是(3 > 2) > 1，即True > 1"
   ]
  },
  {
   "cell_type": "code",
   "execution_count": 9,
   "id": "ed449427",
   "metadata": {},
   "outputs": [
    {
     "data": {
      "text/plain": [
       "False"
      ]
     },
     "execution_count": 9,
     "metadata": {},
     "output_type": "execute_result"
    }
   ],
   "source": [
    "(3 > 2) > 1"
   ]
  },
  {
   "cell_type": "code",
   "execution_count": 10,
   "id": "b3bbdc8b",
   "metadata": {},
   "outputs": [
    {
     "data": {
      "text/plain": [
       "True"
      ]
     },
     "execution_count": 10,
     "metadata": {},
     "output_type": "execute_result"
    }
   ],
   "source": [
    "(3 > 2) > 0"
   ]
  },
  {
   "cell_type": "code",
   "execution_count": 13,
   "id": "f20628f9",
   "metadata": {},
   "outputs": [
    {
     "data": {
      "text/plain": [
       "1"
      ]
     },
     "execution_count": 13,
     "metadata": {},
     "output_type": "execute_result"
    }
   ],
   "source": [
    "(int)(3 > 2)"
   ]
  },
  {
   "cell_type": "code",
   "execution_count": 14,
   "id": "0f2b9e5a",
   "metadata": {},
   "outputs": [
    {
     "data": {
      "text/plain": [
       "0"
      ]
     },
     "execution_count": 14,
     "metadata": {},
     "output_type": "execute_result"
    }
   ],
   "source": [
    "(int) (2 > 3)"
   ]
  },
  {
   "cell_type": "markdown",
   "id": "753b9c5f",
   "metadata": {},
   "source": [
    "上述代码说明，在Python中的True也表示1，而False表示0"
   ]
  },
  {
   "cell_type": "code",
   "execution_count": 18,
   "id": "09b45706",
   "metadata": {},
   "outputs": [],
   "source": [
    "x = 50"
   ]
  },
  {
   "cell_type": "code",
   "execution_count": 20,
   "id": "48112692",
   "metadata": {},
   "outputs": [
    {
     "data": {
      "text/plain": [
       "True"
      ]
     },
     "execution_count": 20,
     "metadata": {},
     "output_type": "execute_result"
    }
   ],
   "source": [
    "1 < x < 100 # 在Python中可以用前者代替x > 1 and x < 100"
   ]
  },
  {
   "cell_type": "markdown",
   "id": "977395db",
   "metadata": {},
   "source": [
    "Python中的优先级，口诀\"not and or\"，not最高，and其次，or最后，如果实在拿不准，加括号就行了"
   ]
  },
  {
   "cell_type": "code",
   "execution_count": 23,
   "id": "d8d7c4a2",
   "metadata": {},
   "outputs": [
    {
     "data": {
      "text/plain": [
       "True"
      ]
     },
     "execution_count": 23,
     "metadata": {},
     "output_type": "execute_result"
    }
   ],
   "source": [
    "(2 == 2) and (2 < 3)"
   ]
  },
  {
   "cell_type": "markdown",
   "id": "16652308",
   "metadata": {},
   "source": [
    "Strings in Python"
   ]
  },
  {
   "cell_type": "code",
   "execution_count": 24,
   "id": "3ac8f666",
   "metadata": {},
   "outputs": [
    {
     "data": {
      "text/plain": [
       "'Hello'"
      ]
     },
     "execution_count": 24,
     "metadata": {},
     "output_type": "execute_result"
    }
   ],
   "source": [
    "\"Hello\""
   ]
  },
  {
   "cell_type": "code",
   "execution_count": 25,
   "id": "0698ba4d",
   "metadata": {},
   "outputs": [
    {
     "data": {
      "text/plain": [
       "'H'"
      ]
     },
     "execution_count": 25,
     "metadata": {},
     "output_type": "execute_result"
    }
   ],
   "source": [
    "\"H\" #在Python中没有char的概念，因此哪怕是只有一个字符或者是单引号，都表示字符串的概念，但是我们一般不会写单引号"
   ]
  },
  {
   "cell_type": "code",
   "execution_count": 26,
   "id": "366e6d63",
   "metadata": {},
   "outputs": [
    {
     "data": {
      "text/plain": [
       "\"What's this\""
      ]
     },
     "execution_count": 26,
     "metadata": {},
     "output_type": "execute_result"
    }
   ],
   "source": [
    "\"What's this\" #双引号和单引号在Python中的本质是一样的，唯独需要注意的是当我们的字符串中有了单引号，我们就应该用双引号表示字符串"
   ]
  },
  {
   "cell_type": "code",
   "execution_count": 27,
   "id": "a46e2a81",
   "metadata": {},
   "outputs": [
    {
     "data": {
      "text/plain": [
       "'I said, \"What\\'s this\"'"
      ]
     },
     "execution_count": 27,
     "metadata": {},
     "output_type": "execute_result"
    }
   ],
   "source": [
    "'''I said, \"What's this\"''' #当我们这句话中既有双引号又有单引号，我们需要用三引号将字符串括起来"
   ]
  },
  {
   "cell_type": "code",
   "execution_count": 29,
   "id": "3c528964",
   "metadata": {},
   "outputs": [
    {
     "data": {
      "text/plain": [
       "'Hello\\nWorld'"
      ]
     },
     "execution_count": 29,
     "metadata": {},
     "output_type": "execute_result"
    }
   ],
   "source": [
    "'''Hello\n",
    "World''' # 三引号的字符串可以支持换行，当然这个功能可以用转义字符\\n来实现"
   ]
  },
  {
   "cell_type": "markdown",
   "id": "d3ad997e",
   "metadata": {},
   "source": [
    "字符串的相关功能与操作"
   ]
  },
  {
   "cell_type": "code",
   "execution_count": 30,
   "id": "d5dd5785",
   "metadata": {},
   "outputs": [
    {
     "data": {
      "text/plain": [
       "'helloworld'"
      ]
     },
     "execution_count": 30,
     "metadata": {},
     "output_type": "execute_result"
    }
   ],
   "source": [
    "\"hello\" + \"world\""
   ]
  },
  {
   "cell_type": "code",
   "execution_count": 31,
   "id": "2e71d856",
   "metadata": {},
   "outputs": [
    {
     "data": {
      "text/plain": [
       "'hellohellohello'"
      ]
     },
     "execution_count": 31,
     "metadata": {},
     "output_type": "execute_result"
    }
   ],
   "source": [
    "\"hello\" * 3 # 字符串乘上一个整数表示将字符串重复这个整数的次数"
   ]
  },
  {
   "cell_type": "markdown",
   "id": "6928bb9e",
   "metadata": {},
   "source": [
    "在Python中，单行注释用#，多行注释用三引号"
   ]
  },
  {
   "cell_type": "code",
   "execution_count": 32,
   "id": "02b0edaf",
   "metadata": {},
   "outputs": [
    {
     "data": {
      "text/plain": [
       "'HELLO'"
      ]
     },
     "execution_count": 32,
     "metadata": {},
     "output_type": "execute_result"
    }
   ],
   "source": [
    "\"hello\".upper() #字符串的方法，将字符串的所有“字符”转换成大写"
   ]
  },
  {
   "cell_type": "code",
   "execution_count": 36,
   "id": "f12caa80",
   "metadata": {},
   "outputs": [
    {
     "data": {
      "text/plain": [
       "(5, 3)"
      ]
     },
     "execution_count": 36,
     "metadata": {},
     "output_type": "execute_result"
    }
   ],
   "source": [
    "#store expressions into variables\n",
    "x = 3\n",
    "y = 5\n",
    "x, y = y, x #Python中可以利用这句话交换两个变量的值\n",
    "x, y"
   ]
  },
  {
   "cell_type": "code",
   "execution_count": 43,
   "id": "5fb5069a",
   "metadata": {},
   "outputs": [
    {
     "data": {
      "text/plain": [
       "4"
      ]
     },
     "execution_count": 43,
     "metadata": {},
     "output_type": "execute_result"
    }
   ],
   "source": [
    "y += 1\n",
    "y"
   ]
  },
  {
   "cell_type": "markdown",
   "id": "e11db9db",
   "metadata": {},
   "source": [
    "List in Python"
   ]
  },
  {
   "cell_type": "code",
   "execution_count": 44,
   "id": "1221b4d8",
   "metadata": {},
   "outputs": [],
   "source": [
    "fruits = ['apple', 'orange', 'pear', 'orange'] #用方括号将数据括起来，相当于其他语言的数组，在Python中称为列表"
   ]
  },
  {
   "cell_type": "code",
   "execution_count": 45,
   "id": "af7d48fb",
   "metadata": {},
   "outputs": [
    {
     "data": {
      "text/plain": [
       "list"
      ]
     },
     "execution_count": 45,
     "metadata": {},
     "output_type": "execute_result"
    }
   ],
   "source": [
    "type(fruits)"
   ]
  },
  {
   "cell_type": "code",
   "execution_count": 46,
   "id": "7a1489f9",
   "metadata": {},
   "outputs": [
    {
     "data": {
      "text/plain": [
       "'apple'"
      ]
     },
     "execution_count": 46,
     "metadata": {},
     "output_type": "execute_result"
    }
   ],
   "source": [
    "#访问列表中的数据元素\n",
    "fruits[0]"
   ]
  },
  {
   "cell_type": "code",
   "execution_count": 52,
   "id": "e284f1dc",
   "metadata": {},
   "outputs": [
    {
     "name": "stdout",
     "output_type": "stream",
     "text": [
      "['apple', 'orange', 'pear']\n"
     ]
    },
    {
     "data": {
      "text/plain": [
       "['apple', 'pear']"
      ]
     },
     "execution_count": 52,
     "metadata": {},
     "output_type": "execute_result"
    }
   ],
   "source": [
    "print(fruits[0:3]) #用数据的切片操作输出列表的区间\n",
    "#标准格式为list[start:end:step]，按照step的间隔访问从start到 end（不包含end）的元素\n",
    "fruits[0:3:2]"
   ]
  },
  {
   "cell_type": "markdown",
   "id": "be8181a4",
   "metadata": {},
   "source": [
    "在C语言或者在其他编程语言中，我们经常需要用循环或者其他方式进行逆序输出一个数组，但是这在Python中的列表操作中就显得非常简单"
   ]
  },
  {
   "cell_type": "code",
   "execution_count": 49,
   "id": "ddef5570",
   "metadata": {},
   "outputs": [
    {
     "data": {
      "text/plain": [
       "['orange', 'pear', 'orange', 'apple']"
      ]
     },
     "execution_count": 49,
     "metadata": {},
     "output_type": "execute_result"
    }
   ],
   "source": [
    "fruits[::-1]"
   ]
  },
  {
   "cell_type": "code",
   "execution_count": 50,
   "id": "9261cdd5",
   "metadata": {},
   "outputs": [
    {
     "data": {
      "text/plain": [
       "'orange'"
      ]
     },
     "execution_count": 50,
     "metadata": {},
     "output_type": "execute_result"
    }
   ],
   "source": [
    "fruits[-1] #倒数第一个元素"
   ]
  },
  {
   "cell_type": "code",
   "execution_count": 51,
   "id": "6c5996a3",
   "metadata": {},
   "outputs": [
    {
     "data": {
      "text/plain": [
       "['apple', 'orange', 'pear', 'orange', 'grape']"
      ]
     },
     "execution_count": 51,
     "metadata": {},
     "output_type": "execute_result"
    }
   ],
   "source": [
    "#添加元素\n",
    "fruits.append(\"grape\")\n",
    "fruits"
   ]
  },
  {
   "cell_type": "code",
   "execution_count": 53,
   "id": "dd32ac10",
   "metadata": {},
   "outputs": [
    {
     "data": {
      "text/plain": [
       "3"
      ]
     },
     "execution_count": 53,
     "metadata": {},
     "output_type": "execute_result"
    }
   ],
   "source": [
    "#多维列表\n",
    "lstOfLists = [['a', 'b', 'c'], [1, 2, 3], ['one', 'two', 'three']]\n",
    "lstOfLists[1][2]"
   ]
  },
  {
   "cell_type": "code",
   "execution_count": 55,
   "id": "dd4b1aa6",
   "metadata": {},
   "outputs": [
    {
     "data": {
      "text/plain": [
       "[['a', 'b'], [1, 2, 3], ['one', 'two', 'three']]"
      ]
     },
     "execution_count": 55,
     "metadata": {},
     "output_type": "execute_result"
    }
   ],
   "source": [
    "lstOfLists[0].pop() #默认弹出列表中的最后一个元素\n",
    "lstOfLists"
   ]
  },
  {
   "cell_type": "markdown",
   "id": "37879e35",
   "metadata": {},
   "source": [
    "Tuples in Python\n"
   ]
  },
  {
   "cell_type": "code",
   "execution_count": 56,
   "id": "a8d2970f",
   "metadata": {},
   "outputs": [
    {
     "data": {
      "text/plain": [
       "(1, 2, 3, 4, 5)"
      ]
     },
     "execution_count": 56,
     "metadata": {},
     "output_type": "execute_result"
    }
   ],
   "source": [
    "# 元组能实现列表的只读不改的功能，只需要将列表的方括号改成圆括号即可\n",
    "(1, 2, 3, 4, 5)"
   ]
  },
  {
   "cell_type": "markdown",
   "id": "cb4728e9",
   "metadata": {},
   "source": [
    "Collections in Python"
   ]
  },
  {
   "cell_type": "code",
   "execution_count": 57,
   "id": "a428b314",
   "metadata": {},
   "outputs": [
    {
     "data": {
      "text/plain": [
       "{1, 2, 3}"
      ]
     },
     "execution_count": 57,
     "metadata": {},
     "output_type": "execute_result"
    }
   ],
   "source": [
    "{1, 2, 3, 1, 2, 3} #集合中不能包含相同的元素"
   ]
  },
  {
   "cell_type": "code",
   "execution_count": 61,
   "id": "5bad5020",
   "metadata": {},
   "outputs": [
    {
     "data": {
      "text/plain": [
       "{3}"
      ]
     },
     "execution_count": 61,
     "metadata": {},
     "output_type": "execute_result"
    }
   ],
   "source": [
    "#集合的运算：并交差\n",
    "{1, 2, 3} & {3, 4, 5} #取交集"
   ]
  },
  {
   "cell_type": "code",
   "execution_count": 59,
   "id": "de0ebbaa",
   "metadata": {},
   "outputs": [
    {
     "data": {
      "text/plain": [
       "{1, 2, 3, 4, 5}"
      ]
     },
     "execution_count": 59,
     "metadata": {},
     "output_type": "execute_result"
    }
   ],
   "source": [
    "{1, 2, 3} | {3, 4, 5} #取并集"
   ]
  },
  {
   "cell_type": "code",
   "execution_count": 60,
   "id": "6acc30c5",
   "metadata": {},
   "outputs": [
    {
     "data": {
      "text/plain": [
       "{1, 2}"
      ]
     },
     "execution_count": 60,
     "metadata": {},
     "output_type": "execute_result"
    }
   ],
   "source": [
    "{1, 2, 3} - {3, 4, 5} #取差集"
   ]
  },
  {
   "cell_type": "code",
   "execution_count": 62,
   "id": "c4ff1a9c",
   "metadata": {},
   "outputs": [
    {
     "data": {
      "text/plain": [
       "False"
      ]
     },
     "execution_count": 62,
     "metadata": {},
     "output_type": "execute_result"
    }
   ],
   "source": [
    "#判断元素是否在集合中\n",
    "6 in {1, 2, 3}"
   ]
  },
  {
   "cell_type": "code",
   "execution_count": 63,
   "id": "ad5adf79",
   "metadata": {},
   "outputs": [
    {
     "data": {
      "text/plain": [
       "True"
      ]
     },
     "execution_count": 63,
     "metadata": {},
     "output_type": "execute_result"
    }
   ],
   "source": [
    "#判断一个集合是否是另一个集合的（真）子集\n",
    "{1, 2} < {1, 2, 3}"
   ]
  },
  {
   "cell_type": "markdown",
   "id": "a6eefe79",
   "metadata": {},
   "source": [
    "Dictionary in Python"
   ]
  },
  {
   "cell_type": "code",
   "execution_count": 64,
   "id": "500cbdf6",
   "metadata": {},
   "outputs": [],
   "source": [
    "stus = [{\"name\":\"Zhang\", \"sex\":\"male\", \"age\":28}, {\"name\":\"Wang\", \"sex\":\"female\", \"age\":35}]\n"
   ]
  },
  {
   "cell_type": "code",
   "execution_count": 69,
   "id": "384afea1",
   "metadata": {},
   "outputs": [
    {
     "data": {
      "text/plain": [
       "{'name': 'Zhang', 'sex': 'male', 'age': 28}"
      ]
     },
     "execution_count": 69,
     "metadata": {},
     "output_type": "execute_result"
    }
   ],
   "source": [
    "stus[0] #利用指定下标访问列表，可以获得这个学生（元素）的所有键（key）和值（value）"
   ]
  },
  {
   "cell_type": "code",
   "execution_count": 70,
   "id": "82afc586",
   "metadata": {},
   "outputs": [
    {
     "data": {
      "text/plain": [
       "'Zhang'"
      ]
     },
     "execution_count": 70,
     "metadata": {},
     "output_type": "execute_result"
    }
   ],
   "source": [
    "stus[0][\"name\"] #用字符串来找到某个集合中的数据，与人类的认知相似"
   ]
  },
  {
   "cell_type": "code",
   "execution_count": null,
   "id": "e4830d93",
   "metadata": {},
   "outputs": [],
   "source": []
  }
 ],
 "metadata": {
  "kernelspec": {
   "display_name": "Python 3 (ipykernel)",
   "language": "python",
   "name": "python3"
  },
  "language_info": {
   "codemirror_mode": {
    "name": "ipython",
    "version": 3
   },
   "file_extension": ".py",
   "mimetype": "text/x-python",
   "name": "python",
   "nbconvert_exporter": "python",
   "pygments_lexer": "ipython3",
   "version": "3.9.12"
  }
 },
 "nbformat": 4,
 "nbformat_minor": 5
}
